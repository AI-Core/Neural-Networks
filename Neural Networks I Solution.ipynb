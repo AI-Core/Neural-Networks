{
 "cells": [
  {
   "cell_type": "markdown",
   "metadata": {},
   "source": [
    "## What is machine learning?\n",
    "\n",
    "### Three types of Machine Learning\n",
    "\n",
    "There are three distinct problems within the Machine Learning field.\n",
    "\n",
    "Unsupervised learning - Where we only have an input and try to model the distribution in order to better understand the underlying structure of it. E.g. we have census data and try to split segment people into different unknown categories\n",
    "\n",
    "Reinforcement Learning - We have an agent in an evironment and it has to learn what actions to take to maximize the reward. E.g. we are trying to get an algorithm to learn how to win at tic-tac-toe autonomously\n",
    "\n",
    "**Supervised Learning**- Where we create to model that can predict an output from a input, given examples of input-output pairs. E.g. we take as input different features about a house such as location, number of rooms, etc and try to predict the price. \n",
    "\n",
    "This is the paradigm we will be implementing in this notebook.\n",
    "\n",
    "\n",
    "Inputs(often called features) and outputs(often called labels) can take different forms.<br>\n",
    "Other examples of supervised learning include:\n",
    "\n",
    "- Taking in an image as input and outputting the probability that there is a car in the image\n",
    "- Taking in a sequence of words and outputting a probability distribution over the next word\n",
    "\n",
    "\n",
    "Common synonyms\n",
    "Loss, cost, criterion\n",
    "Input, Features\n",
    "Output, Label\n",
    "\n",
    "ML = prediction problem aka curve fitting problem"
   ]
  },
  {
   "cell_type": "markdown",
   "metadata": {},
   "source": [
    "### What does data look like?"
   ]
  },
  {
   "cell_type": "markdown",
   "metadata": {},
   "source": [
    "Lets create a function that generates some artificial data. <br>The function should return any noisy linear data of size *m* which is a parameter of the function. <br>Although data collected in the real world often has much more complex correlations, linear functions are good simple function that we can test our learning algorithms.\n",
    "![image](img/NN1_xy.JPG)"
   ]
  },
  {
   "cell_type": "code",
   "execution_count": 28,
   "metadata": {},
   "outputs": [
    {
     "name": "stdout",
     "output_type": "stream",
     "text": [
      "X: [-1.85147167 -2.01352134 -0.30662654 -1.03746654 -3.20733004  2.34692561\n",
      " -2.66485402  1.86618969 -2.05064487  3.89475911] \n",
      "\n",
      "Y: [-12.56724107 -12.16738233  -8.89441802 -10.48683796 -15.55253075\n",
      "  -2.57796289 -14.31383134  -3.73930536 -12.81762159   0.92032048] \n",
      "\n"
     ]
    },
    {
     "data": {
      "image/png": "[encoded data removed]",
      "text/plain": [
       "<Figure size 432x288 with 1 Axes>"
      ]
     },
     "metadata": {
      "needs_background": "light"
     },
     "output_type": "display_data"
    }
   ],
   "source": [
    "import numpy as np\n",
    "import matplotlib.pyplot as plt\n",
    "\n",
    "def sample_linear_data(m=20): \n",
    "    ground_truth_w = 2.3 # slope\n",
    "    ground_truth_b = -8 #intercept\n",
    "    X = np.random.randn(m)*2\n",
    "    Y = ground_truth_w*X + ground_truth_b + 0.2*np.random.randn(m)\n",
    "    return X, Y #returns X (the input) and Y (labels)\n",
    "\n",
    "def plot_data(X, Y):\n",
    "    plt.figure()\n",
    "    plt.scatter(X, Y, c='r')\n",
    "    plt.xlabel('X')\n",
    "    plt.ylabel('Y')\n",
    "    plt.show()\n",
    "    \n",
    "m = 10\n",
    "X, Y = sample_linear_data(m)\n",
    "print('X:',X, '\\n')\n",
    "print('Y:',Y, '\\n')\n",
    "plot_data(X, Y)"
   ]
  },
  {
   "cell_type": "markdown",
   "metadata": {},
   "source": [
    "### What does a model look like?"
   ]
  },
  {
   "cell_type": "markdown",
   "metadata": {},
   "source": [
    "Lets create our own model and use it to make a prediction on our data.<br>\n",
    "We will be using a linear model which has a single weight and bias.<br>\n",
    "![title](img/NN1_singlevar_lr_equation.JPG)"
   ]
  },
  {
   "cell_type": "code",
   "execution_count": 29,
   "metadata": {},
   "outputs": [],
   "source": [
    "class LinearHypothesis:\n",
    "    def __init__(self): #initalize parameters \n",
    "        self.w = np.random.randn() #weight\n",
    "        self.b = np.random.randn() #bias\n",
    "    def __call__(self, X): #how do we calculate output from an input in our model?\n",
    "        ypred = self.w*X + self.b\n",
    "        return ypred\n",
    "    def update_params(self, new_w, new_b):\n",
    "        self.w = new_w\n",
    "        self.b = new_b"
   ]
  },
  {
   "cell_type": "code",
   "execution_count": 30,
   "metadata": {},
   "outputs": [
    {
     "name": "stdout",
     "output_type": "stream",
     "text": [
      "Input: [-1.85147167 -2.01352134 -0.30662654 -1.03746654 -3.20733004  2.34692561\n",
      " -2.66485402  1.86618969 -2.05064487  3.89475911] \n",
      "\n",
      "W: 2.485867064828714 B: -0.8588996658965872 \n",
      "\n",
      "Prediction: [-5.46141212 -5.86424604 -1.62113249 -3.43790356 -8.83189577  4.97524542\n",
      " -7.4833725   3.78019982 -5.9565302   8.82295373] \n",
      "\n"
     ]
    }
   ],
   "source": [
    "H = LinearHypothesis()\n",
    "y_hat = H(X)\n",
    "print('Input:',X, '\\n')\n",
    "print('W:', H.w, 'B:', H.b, '\\n')\n",
    "print('Prediction:', y_hat, '\\n')"
   ]
  },
  {
   "cell_type": "markdown",
   "metadata": {},
   "source": [
    "#### Lets visualise our hypothesis vs the labels"
   ]
  },
  {
   "cell_type": "code",
   "execution_count": 31,
   "metadata": {},
   "outputs": [],
   "source": [
    "def plot_h_vs_y(X, y_hat, Y):\n",
    "    plt.figure()\n",
    "    plt.scatter(X, Y, c='r', label='Label')\n",
    "    plt.scatter(X, y_hat, c='b', label='Hypothesis', marker='x')\n",
    "    plt.legend()\n",
    "    plt.xlabel('X')\n",
    "    plt.ylabel('Y')\n",
    "    plt.show()"
   ]
  },
  {
   "cell_type": "code",
   "execution_count": 32,
   "metadata": {},
   "outputs": [
    {
     "data": {
      "image/png": "[encoded data removed]",
      "text/plain": [
       "<Figure size 432x288 with 1 Axes>"
      ]
     },
     "metadata": {
      "needs_background": "light"
     },
     "output_type": "display_data"
    }
   ],
   "source": [
    "plot_h_vs_y(X, y_hat, Y)"
   ]
  },
  {
   "cell_type": "markdown",
   "metadata": {},
   "source": [
    "### How do we know how good our model is?"
   ]
  },
  {
   "cell_type": "markdown",
   "metadata": {},
   "source": [
    "Lets calculate the cost. In this case we will use mean squared_error.\n",
    "\n",
    "![title](img/NN1_cost_function.JPG)"
   ]
  },
  {
   "cell_type": "code",
   "execution_count": 33,
   "metadata": {},
   "outputs": [],
   "source": [
    "def L(y_hat, labels):\n",
    "    cost = np.sum(np.square(y_hat-labels))/(m)\n",
    "    return cost"
   ]
  },
  {
   "cell_type": "code",
   "execution_count": 34,
   "metadata": {},
   "outputs": [
    {
     "name": "stdout",
     "output_type": "stream",
     "text": [
      "50.77526942869322\n"
     ]
    }
   ],
   "source": [
    "cost = L(y_hat, Y)\n",
    "print(cost)"
   ]
  },
  {
   "cell_type": "markdown",
   "metadata": {},
   "source": [
    "### How can we find the right weight values for our model?"
   ]
  },
  {
   "cell_type": "markdown",
   "metadata": {},
   "source": [
    "#### Random Search"
   ]
  },
  {
   "cell_type": "code",
   "execution_count": 35,
   "metadata": {},
   "outputs": [],
   "source": [
    "def random_search(n_samples):\n",
    "    best_weights = None\n",
    "    best_bias = None\n",
    "    lowest_cost=100000 #initialize it very high\n",
    "    for i in range(n_samples):\n",
    "        H.update_params(np.random.randn(), np.random.randn())\n",
    "        y_hat = H(X)\n",
    "        cost = L(y_hat, Y)\n",
    "        if cost<lowest_cost:\n",
    "            lowest_cost=cost\n",
    "            best_weights = H.w\n",
    "            best_bias = H.b\n",
    "    print('Lowest cost of', lowest_cost, 'achieved with weight of', best_weights, 'and bias of', best_bias)\n",
    "    return lowest_cost, best_weights"
   ]
  },
  {
   "cell_type": "code",
   "execution_count": 36,
   "metadata": {},
   "outputs": [
    {
     "name": "stdout",
     "output_type": "stream",
     "text": [
      "Lowest cost of 35.224404329287665 achieved with weight of 2.5851916349567037 and bias of -2.021982398597276\n"
     ]
    },
    {
     "data": {
      "image/png": "[encoded data removed]",
      "text/plain": [
       "<Figure size 432x288 with 1 Axes>"
      ]
     },
     "metadata": {
      "needs_background": "light"
     },
     "output_type": "display_data"
    }
   ],
   "source": [
    "lowest_cost, best_weights = random_search(1000)\n",
    "plot_h_vs_y(X, H(X), Y)"
   ]
  },
  {
   "cell_type": "markdown",
   "metadata": {},
   "source": [
    "#### Grid Search"
   ]
  },
  {
   "cell_type": "code",
   "execution_count": 37,
   "metadata": {},
   "outputs": [],
   "source": [
    "from itertools import permutations\n",
    "def generate_grid_search_values(n_params, n_samples=100, minval=-2.5, maxval=2.5):\n",
    "    n_samples_per_param = np.power(n_samples, 1/n_params).round()\n",
    "    param_values = np.linspace(-2.5, 2.5, n_samples_per_param)\n",
    "    grid_samples = permutations(param_values, n_vars)\n",
    "    return grid_samples\n",
    "\n",
    "def grid_search(grid_search_values):\n",
    "    best_weights = None\n",
    "    best_bias = None\n",
    "    lowest_cost=100000 #initialize it very high\n",
    "    for search_val in grid_search_values:\n",
    "        H.update_params(search_val[0], search_val[1])\n",
    "        y_hat = H(X)\n",
    "        cost = L(y_hat, Y)\n",
    "        if cost<lowest_cost:\n",
    "            lowest_cost=cost\n",
    "            best_weights = H.w\n",
    "            best_bias = H.b\n",
    "    print('Lowest cost of', lowest_cost, 'achieved with weight of', best_weights, 'and bias of', best_bias)\n",
    "    return lowest_cost, best_weights"
   ]
  },
  {
   "cell_type": "code",
   "execution_count": 38,
   "metadata": {},
   "outputs": [
    {
     "name": "stdout",
     "output_type": "stream",
     "text": [
      "Lowest cost of 30.074869245940853 achieved with weight of 2.5 and bias of -2.5\n"
     ]
    },
    {
     "data": {
      "image/png": "[encoded data removed]",
      "text/plain": [
       "<Figure size 432x288 with 1 Axes>"
      ]
     },
     "metadata": {
      "needs_background": "light"
     },
     "output_type": "display_data"
    }
   ],
   "source": [
    "grid_search_values = list(generate_grid_search_values(2, n_samples=1000))\n",
    "lowest_cost, best_weights = grid_search(grid_search_values)\n",
    "plot_h_vs_y(X, H(X), Y)"
   ]
  },
  {
   "cell_type": "markdown",
   "metadata": {},
   "source": [
    "#### Gradient Descent"
   ]
  },
  {
   "cell_type": "markdown",
   "metadata": {},
   "source": [
    "Gradient descent is another optimization algorithm that we could use. We can use gradient descent when our model is a differentiable function. Linear functions are pretty simple to differentiate hence why we can use it here.\n",
    "\n",
    "The algorithm starts by randomly initializing our parameters. We then calculate the cost of those parameters and the derivative of our cost w.r.t each parameter. This tells us the direction of steepest ascent. We update each parameter value by taking a step in the opposite direction, proportional to the learning rate\n",
    "\n",
    "![title](img/NN1_grad_descent.JPG)\n",
    "\n",
    "When there is only one parameter, we have a loss curve as shown in the diagrams above. When we have more than one parameter, we have 3d loss surfaces which we perform descent on.\n",
    "\n",
    "Lets calculate the derivative of the parameters with respect to the loss for the linear function we are using.\n",
    "![title](img/NN1_single_grad_calc.JPG)\n",
    "\n",
    "Complete the function below to return the derivative of our loss w.r.t the weight and bias."
   ]
  },
  {
   "cell_type": "code",
   "execution_count": 39,
   "metadata": {},
   "outputs": [],
   "source": [
    "class LinearHypothesis:\n",
    "    def __init__(self): \n",
    "        self.w = np.random.randn() #weight\n",
    "        self.b = np.random.randn() #bias\n",
    "    def __call__(self, X): #how do we calculate output from an input in our model?\n",
    "        y_hat = self.w*X + self.b\n",
    "        return y_hat\n",
    "    def update_params(self, new_w, new_b):\n",
    "        self.w = new_w\n",
    "        self.b = new_b\n",
    "    def calc_deriv(self, X, y_hat, labels):\n",
    "        diffs = y_hat-labels\n",
    "        dLdw = 2*np.array(np.sum(diffs*X)/m)\n",
    "        dLdb = 2*np.array(np.sum(diffs)/m)\n",
    "        return dLdw, dLdb"
   ]
  },
  {
   "cell_type": "code",
   "execution_count": 13,
   "metadata": {},
   "outputs": [
    {
     "name": "stdout",
     "output_type": "stream",
     "text": [
      "-18.381784897540467 19.023421207238396\n"
     ]
    }
   ],
   "source": [
    "H = LinearHypothesis()\n",
    "y_hat = H(X)\n",
    "dLdw, dLdb = H.calc_deriv(X, y_hat, Y)\n",
    "print(dLdw, dLdb)"
   ]
  },
  {
   "cell_type": "markdown",
   "metadata": {},
   "source": [
    "Now that we can complete the derivatives, complete the train function below to iteratively improve our parameter estimes to minimize the cost"
   ]
  },
  {
   "cell_type": "code",
   "execution_count": 40,
   "metadata": {},
   "outputs": [],
   "source": [
    "num_epochs = 200\n",
    "learning_rate = 0.1\n",
    "H = LinearHypothesis()"
   ]
  },
  {
   "cell_type": "code",
   "execution_count": 41,
   "metadata": {},
   "outputs": [],
   "source": [
    "def train(num_epochs, X, Y, H, L, plot_cost_curve=False):\n",
    "    all_costs = []\n",
    "    for e in range(num_epochs):\n",
    "        y_hat = H(X)\n",
    "        cost = L(y_hat, Y)\n",
    "        dLdw, dLdb = H.calc_deriv(X, y_hat, Y)\n",
    "        new_w = H.w - learning_rate*dLdw\n",
    "        new_b = H.b - learning_rate*dLdb\n",
    "        H.update_params(new_w, new_b)\n",
    "        all_costs.append(cost)\n",
    "    if plot_cost_curve:\n",
    "        plt.figure()\n",
    "        plt.ylabel('Cost')\n",
    "        plt.xlabel('Epoch')\n",
    "        plt.plot(all_costs)\n",
    "    print('Final cost:', cost)\n",
    "    print('Weight values:', H.w)\n",
    "    print('Bias values:', H.b)\n",
    "    #return cost, H.w"
   ]
  },
  {
   "cell_type": "code",
   "execution_count": 42,
   "metadata": {},
   "outputs": [
    {
     "name": "stdout",
     "output_type": "stream",
     "text": [
      "Final cost: 0.03866113273593799\n",
      "Weight values: 2.3114182263524685\n",
      "Bias values: -8.058415181092146\n"
     ]
    },
    {
     "data": {
      "image/png": "[encoded data removed]",
      "text/plain": [
       "<Figure size 432x288 with 1 Axes>"
      ]
     },
     "metadata": {
      "needs_background": "light"
     },
     "output_type": "display_data"
    }
   ],
   "source": [
    "train(num_epochs, X, Y, H, L, plot_cost_curve=True)"
   ]
  },
  {
   "cell_type": "code",
   "execution_count": 43,
   "metadata": {},
   "outputs": [
    {
     "data": {
      "image/png": "[encoded data removed]",
      "text/plain": [
       "<Figure size 432x288 with 1 Axes>"
      ]
     },
     "metadata": {
      "needs_background": "light"
     },
     "output_type": "display_data"
    }
   ],
   "source": [
    "plot_h_vs_y(X, H(X), Y)"
   ]
  },
  {
   "cell_type": "markdown",
   "metadata": {},
   "source": [
    "### Modelling more advanced functions\n",
    "Lets try fitting more complex curves than just a straight line.\n",
    "Complete the function below to return random polynomial data of a given order."
   ]
  },
  {
   "cell_type": "code",
   "execution_count": 76,
   "metadata": {},
   "outputs": [
    {
     "name": "stdout",
     "output_type": "stream",
     "text": [
      "X: [ 0.42614664 -1.60540974 -0.4276796   1.24286955 -0.73521696  0.50124899\n",
      "  1.01273905  0.27874086 -1.37094847 -0.33247528  1.95941134 -2.02504576\n",
      " -0.27578601 -0.55210807  0.12074736  0.74821562  1.60869097 -0.27023239\n",
      "  0.81234133  0.49974014] \n",
      "\n",
      "Y: [-1.21565834e-01  8.08759562e+00  1.39269907e-01 -3.27962824e+00\n",
      "  7.87307514e-01 -1.96895883e-01 -1.73994120e+00 -4.14839565e-02\n",
      "  5.06377781e+00  5.23008426e-02 -1.32755695e+01  1.61049912e+01\n",
      "  1.86705247e-02  3.24616722e-01 -2.11635764e-02 -6.78491379e-01\n",
      " -7.25665756e+00  1.60033912e-02 -8.76542359e-01 -1.95107332e-01] \n",
      "\n",
      "Ground truth coefficients: [-0.02462598  0.03414213  0.17954948 -1.86197571] \n",
      "\n"
     ]
    },
    {
     "data": {
      "image/png": "[encoded data removed]",
      "text/plain": [
       "<Figure size 432x288 with 1 Axes>"
      ]
     },
     "metadata": {
      "needs_background": "light"
     },
     "output_type": "display_data"
    }
   ],
   "source": [
    "from numpy.polynomial import Polynomial\n",
    "def sample_polynomial_data(m=20, order=3):\n",
    "    coeffs = np.random.randn(order+1)\n",
    "    poly_func = np.vectorize(Polynomial(coeffs))\n",
    "    X = np.random.randn(m)\n",
    "    Y = poly_func(X)\n",
    "    return X, Y, coeffs #returns X (the input), Y (labels) and coefficients for each power\n",
    "\n",
    "m = 20\n",
    "order=3\n",
    "X, Y, ground_truth_coeffs = sample_polynomial_data(m, order)\n",
    "print('X:',X, '\\n')\n",
    "print('Y:',Y, '\\n')\n",
    "print('Ground truth coefficients:', ground_truth_coeffs, '\\n')\n",
    "plot_data(X, Y)"
   ]
  },
  {
   "cell_type": "markdown",
   "metadata": {},
   "source": [
    "#### Linear fit\n",
    "As we can see below, our current model lacks the capacity to find a great fit for any polynomial higher than order 1. We call this high bias. To reduce the bias, we need to use a model with higher capacity.\n",
    "\n",
    "![title](img/NN1_bias.JPG)"
   ]
  },
  {
   "cell_type": "code",
   "execution_count": 45,
   "metadata": {},
   "outputs": [
    {
     "name": "stdout",
     "output_type": "stream",
     "text": [
      "Final cost: 178.13086898991784\n",
      "Weight values: -8.8083723043842\n",
      "Bias values: 2.5995412636575654\n"
     ]
    },
    {
     "data": {
      "image/png": "[encoded data removed]",
      "text/plain": [
       "<Figure size 432x288 with 1 Axes>"
      ]
     },
     "metadata": {
      "needs_background": "light"
     },
     "output_type": "display_data"
    },
    {
     "data": {
      "image/png": "[encoded data removed]",
      "text/plain": [
       "<Figure size 432x288 with 1 Axes>"
      ]
     },
     "metadata": {
      "needs_background": "light"
     },
     "output_type": "display_data"
    }
   ],
   "source": [
    "num_epochs = 200\n",
    "learning_rate = 0.03\n",
    "H = LinearHypothesis()\n",
    "train(num_epochs, X, Y, H, L, plot_cost_curve=True)\n",
    "plot_h_vs_y(X, H(X), Y)"
   ]
  },
  {
   "cell_type": "markdown",
   "metadata": {},
   "source": [
    "#### Multi-variable Linear regression\n",
    "Lets change our model to a polynomial one. We can think of this as a specific case of the general multi variable linear regression problem, where we are passing in higher powers of x as extra input features to our model. Multi varible regression is when we have more than one input feature<br>\n",
    "Change the \\_\\_call\\_\\_ and calc_deriv functions of the class below so it works for multiple input variables.<br>\n",
    "Also complete the create_polynomial_data function to return a copy of the original dataset with extra features which are the orginal x feature raised to higher powers.\n",
    "\n",
    "Our X variable looks like this now since we have multiple input features\n",
    "\n",
    "![title](img/NN1_multi_x.JPG)\n",
    "\n",
    "Our weights become a vector as opposed to a single value\n",
    "\n",
    "![title](img/NN1_weights.JPG)\n",
    "\n",
    "The weights variable (w) becomes a row vector so we need to transpose it when we multiply it by the X matrix\n",
    "\n",
    "![title](img/NN1_lr_equation.JPG)\n",
    "\n",
    "Our gradient calculation changes slightly to account for the fact that we have more weights than one\n",
    "\n",
    "![title](img/NN1_multi_grad_calc.JPG)"
   ]
  },
  {
   "cell_type": "code",
   "execution_count": 46,
   "metadata": {},
   "outputs": [],
   "source": [
    "class MultiVariableLinearHypothesis:\n",
    "    def __init__(self, n_vars):\n",
    "        self.n_vars = n_vars\n",
    "        self.b = np.random.randn()\n",
    "        self.w = np.random.randn(n_vars)\n",
    "    def __call__(self, X): #input is of shape (n_datapoints, n_vars)\n",
    "        y_hat = np.matmul(X, self.w) + self.b\n",
    "        return y_hat #output is of shape (n_datapoints, 1)\n",
    "    def update_params(self, new_w, new_b):\n",
    "        self.w = new_w\n",
    "        self.b = new_b\n",
    "    def calc_deriv(self, X, y_hat, labels):\n",
    "        diffs = y_hat-labels\n",
    "        dLdw = 2*np.array([np.sum(diffs*X[:, i])/m for i in range(self.n_vars)])\n",
    "        dLdb = 2*np.sum(diffs)/m\n",
    "        return dLdw, dLdb\n",
    "\n",
    "def create_polynomial_data(X, order=3):\n",
    "    new_dataset = np.array([X, *[np.power(X, i) for i in range(2, order+1)]]).T\n",
    "    return new_dataset #new_dataset should be shape [m, order]"
   ]
  },
  {
   "cell_type": "code",
   "execution_count": 47,
   "metadata": {},
   "outputs": [],
   "source": [
    "num_epochs = 200\n",
    "learning_rate = 0.0000001\n",
    "highest_order_power = 4\n",
    "\n",
    "X_polynomial_augmented = create_polynomial_data(X, highest_order_power)#need normalization to put higher coefficient variables on the same order of magnitude as the others\n",
    "H = MultiVariableLinearHypothesis(n_vars=highest_order_power)"
   ]
  },
  {
   "cell_type": "code",
   "execution_count": 48,
   "metadata": {},
   "outputs": [
    {
     "name": "stdout",
     "output_type": "stream",
     "text": [
      "Final cost: 556.0267832339068\n",
      "Weight values: [-1.06481625 -0.48655026 -1.0068981  -0.18335918]\n",
      "Bias values: 0.7099450977325247\n"
     ]
    },
    {
     "data": {
      "image/png": "[encoded data removed]",
      "text/plain": [
       "<Figure size 432x288 with 1 Axes>"
      ]
     },
     "metadata": {
      "needs_background": "light"
     },
     "output_type": "display_data"
    }
   ],
   "source": [
    "train(num_epochs, X_polynomial_augmented, Y, H, L, plot_cost_curve=True)"
   ]
  },
  {
   "cell_type": "code",
   "execution_count": 49,
   "metadata": {},
   "outputs": [
    {
     "data": {
      "image/png": "[encoded data removed]",
      "text/plain": [
       "<Figure size 432x288 with 1 Axes>"
      ]
     },
     "metadata": {
      "needs_background": "light"
     },
     "output_type": "display_data"
    }
   ],
   "source": [
    "plot_h_vs_y(X, H(X_polynomial_augmented), Y)"
   ]
  },
  {
   "cell_type": "markdown",
   "metadata": {},
   "source": [
    "### Data Normalization"
   ]
  },
  {
   "cell_type": "markdown",
   "metadata": {},
   "source": [
    "As we run the train function with higher order polynomial inputs, we often get NaN errors. Lets examine why this happens.\n",
    "\n",
    "When we square, cube, etc our original feature, the new features will have a much higher mean. Because the derivative of our cost w.r.t a particular weight is proportional to the value of that feature, the derivatives for the weight will be extremely high. This will lead to huge steps along that weight and even higher gradients. This cycle continues until our gradients have exploded to NaN.\n",
    "\n",
    "In order to solve this problem, we must normalize each of our input features to put them on the same order of magnitude. We do this by subtracting the mean then dividing by the standard deviation.\n",
    "\n",
    "![title](img/NN1_normalisation.JPG)\n",
    "\n",
    "Complete the function below which normalizes our dataset along each feature."
   ]
  },
  {
   "cell_type": "code",
   "execution_count": 50,
   "metadata": {},
   "outputs": [],
   "source": [
    "def normalize_data(dataset):\n",
    "    mean, std = np.mean(dataset, axis=0), np.std(dataset, axis=0)\n",
    "    normalized_dataset  = (dataset-mean)/std\n",
    "    return normalized_dataset"
   ]
  },
  {
   "cell_type": "code",
   "execution_count": 26,
   "metadata": {},
   "outputs": [],
   "source": [
    "num_epochs = 200\n",
    "learning_rate = 0.01\n",
    "highest_order_power = 20\n",
    "\n",
    "X_polynomial_augmented = create_polynomial_data(X, highest_order_power)\n",
    "X_normalized = normalize_data(X_polynomial_augmented)\n",
    "H = MultiVariableLinearHypothesis(n_vars=highest_order_power)"
   ]
  },
  {
   "cell_type": "code",
   "execution_count": 44,
   "metadata": {},
   "outputs": [
    {
     "name": "stdout",
     "output_type": "stream",
     "text": [
      "Final cost: 0.24355581487759914\n",
      "Weight values: [-3.24093322  1.86441087 -3.37830605 -0.74009367 -1.33371144 -0.63508527\n",
      " -1.66591939  0.01942942  1.38724103  0.76722726  1.56849204 -0.34181924\n",
      "  0.01538442  1.831549   -1.7893939   0.8262138  -0.18168633  0.94214926\n",
      " -2.89143431  0.25284943]\n",
      "Bias values: 2.9278605178395103\n"
     ]
    },
    {
     "data": {
      "image/png": "[encoded data removed]",
      "text/plain": [
       "<Figure size 432x288 with 1 Axes>"
      ]
     },
     "metadata": {
      "needs_background": "light"
     },
     "output_type": "display_data"
    }
   ],
   "source": [
    "train(num_epochs, X_normalized, Y, H, L, plot_cost_curve=True)"
   ]
  },
  {
   "cell_type": "code",
   "execution_count": 45,
   "metadata": {},
   "outputs": [
    {
     "data": {
      "image/png": "[encoded data removed]",
      "text/plain": [
       "<Figure size 432x288 with 1 Axes>"
      ]
     },
     "metadata": {
      "needs_background": "light"
     },
     "output_type": "display_data"
    }
   ],
   "source": [
    "plot_h_vs_y(X, H(X_normalized), Y)"
   ]
  },
  {
   "cell_type": "markdown",
   "metadata": {},
   "source": [
    "### Testing Generalisation\n",
    "\n",
    "We build machine learning algorithms to make predictions. So far, we have been testing our algorithm on data points it has already seen but the real measure of success in machine learning is when we can make correct predictions on samples that the algorithm has not seen yet. So lets make a function which will generate us test data by sampling from the same distribution as the training set."
   ]
  },
  {
   "cell_type": "code",
   "execution_count": 85,
   "metadata": {},
   "outputs": [
    {
     "name": "stdout",
     "output_type": "stream",
     "text": [
      "X: [ 1.73862485  1.73906934 -0.82463264 -4.24824676 -2.00730788  4.83657913\n",
      "  2.68817494  1.10885876 -2.28388273  0.01093546 -3.76700606 -1.65581063\n",
      " -0.73561003 -1.0849198   2.86980579 -4.25617774 -2.59629681 -4.12406391\n",
      " -3.71205964  0.37216769] \n",
      "\n",
      "Y: [-9.20821509e+00 -9.21542961e+00  1.11344877e+00  1.45829675e+02\n",
      "  1.56899844e+01 -2.06322694e+02 -3.48052110e+01 -2.30464820e+00\n",
      "  2.30156792e+01 -2.42335850e-02  1.01926682e+02  8.86401892e+00\n",
      "  7.88585381e-01  2.52742539e+00 -4.24559039e+01  1.46642551e+02\n",
      "  3.36834791e+01  1.33490434e+02  9.75625997e+01 -8.30322499e-02] \n",
      "\n"
     ]
    },
    {
     "data": {
      "image/png": "[encoded data removed]",
      "text/plain": [
       "<Figure size 432x288 with 1 Axes>"
      ]
     },
     "metadata": {
      "needs_background": "light"
     },
     "output_type": "display_data"
    }
   ],
   "source": [
    "def sample_more_polynomial_data(coeffs, m_test=20, rng=3):\n",
    "    poly_func = np.vectorize(Polynomial(coeffs))\n",
    "    X = np.random.randn(m_test)*rng\n",
    "    Y = poly_func(X)\n",
    "    return X, Y#returns X (the input), Y (labels)\n",
    "\n",
    "m_test = 20\n",
    "X_test, Y_test = sample_more_polynomial_data(ground_truth_coeffs, m_test)\n",
    "print('X:',X_test, '\\n')\n",
    "print('Y:',Y_test, '\\n')\n",
    "plot_data(X_test, Y_test)"
   ]
  },
  {
   "cell_type": "code",
   "execution_count": 86,
   "metadata": {},
   "outputs": [
    {
     "data": {
      "image/png": "[encoded data removed]",
      "text/plain": [
       "<Figure size 432x288 with 1 Axes>"
      ]
     },
     "metadata": {
      "needs_background": "light"
     },
     "output_type": "display_data"
    }
   ],
   "source": [
    "X_test_polynomial_augmented = create_polynomial_data(X, highest_order_power)\n",
    "X_test_normalized = normalize_data(X_polynomial_augmented)\n",
    "plot_h_vs_y(X, H(X_test_normalized), Y)"
   ]
  },
  {
   "cell_type": "markdown",
   "metadata": {},
   "source": [
    "### Overfitting - need for regularisation"
   ]
  },
  {
   "cell_type": "markdown",
   "metadata": {},
   "source": [
    "Sometimes, we have the opposite problem to high bias. That is, our model's capacity is so high that it can easily fit all the points perfectly but can't extrapolate well. This is called high variance. To reduce this, we can either reduce the capacity of our model or introduce regularization.\n",
    "\n",
    "![title](img/NN1_variance.JPG)\n",
    "\n",
    "Regulatization is anything that biases our algorithm towards a subset of all possible parameters. In this case, we bias the values towards 0. This encourages the coeffecients of all features 0 if they are not contributing to significantly reducing the cost. In this case, we should see lower values for coefficients of high order features.\n",
    "\n",
    "![title](img/NN1_regularization.JPG)"
   ]
  },
  {
   "cell_type": "code",
   "execution_count": 87,
   "metadata": {},
   "outputs": [],
   "source": [
    "class MultiVariableLinearHypothesis:\n",
    "    def __init__(self, n_vars, regularization_factor=0):\n",
    "        self.regularization_factor = regularization_factor\n",
    "        self.n_vars = n_vars\n",
    "        self.b = np.random.randn()\n",
    "        self.w = np.random.randn(n_vars)\n",
    "    def __call__(self, X): #input is of shape (n_datapoints, n_vars)\n",
    "        y_hat = np.matmul(X, self.w) + self.b\n",
    "        return y_hat #output is of shape (n_datapoints, 1)\n",
    "    def update_params(self, new_w, new_b):\n",
    "        self.w = new_w\n",
    "        self.b = new_b\n",
    "    def calc_deriv(self, X, y_hat, labels):\n",
    "        diffs = y_hat-labels\n",
    "        dLdw = 2*np.array([np.sum(diffs*X[:, i])/m+self.regularization_factor*self.w[i] for i in range(self.n_vars)])\n",
    "        dLdb = 2*np.sum(diffs)/m\n",
    "        return dLdw, dLdb"
   ]
  },
  {
   "cell_type": "code",
   "execution_count": 119,
   "metadata": {},
   "outputs": [],
   "source": [
    "num_epochs = 1000\n",
    "learning_rate = 0.03\n",
    "highest_order_power = 20\n",
    "regularization_factor = 0.1\n",
    "\n",
    "X_polynomial_augmented = create_polynomial_data(X, highest_order_power)\n",
    "X_normalized = normalize_data(X_polynomial_augmented)\n",
    "H = MultiVariableLinearHypothesis(n_vars=highest_order_power, regularization_factor=regularization_factor)"
   ]
  },
  {
   "cell_type": "code",
   "execution_count": 120,
   "metadata": {},
   "outputs": [
    {
     "name": "stdout",
     "output_type": "stream",
     "text": [
      "Final cost: 0.2754659063842717\n",
      "Weight values: [-1.23223019  0.19936479 -1.80967343  0.06622156 -1.2314165   0.01455701\n",
      " -0.73823953 -0.00711491 -0.41002548 -0.01483227 -0.2003448  -0.02096548\n",
      " -0.07140219 -0.02801585  0.00926525 -0.02763457  0.05643655 -0.03564121\n",
      "  0.09207019 -0.03629486]\n",
      "Bias values: 0.1455743380190012\n"
     ]
    },
    {
     "data": {
      "image/png": "[encoded data removed]",
      "text/plain": [
       "<Figure size 432x288 with 1 Axes>"
      ]
     },
     "metadata": {
      "needs_background": "light"
     },
     "output_type": "display_data"
    }
   ],
   "source": [
    "train(num_epochs, X_normalized, Y, H, L)"
   ]
  },
  {
   "cell_type": "code",
   "execution_count": 121,
   "metadata": {},
   "outputs": [
    {
     "data": {
      "image/png": "[encoded data removed]",
      "text/plain": [
       "<Figure size 432x288 with 1 Axes>"
      ]
     },
     "metadata": {
      "needs_background": "light"
     },
     "output_type": "display_data"
    }
   ],
   "source": [
    "plot_h_vs_y(X, H(X_normalized), Y)"
   ]
  },
  {
   "cell_type": "code",
   "execution_count": 122,
   "metadata": {},
   "outputs": [
    {
     "data": {
      "image/png": "[encoded data removed]",
      "text/plain": [
       "<Figure size 432x288 with 1 Axes>"
      ]
     },
     "metadata": {
      "needs_background": "light"
     },
     "output_type": "display_data"
    }
   ],
   "source": [
    "plot_h_vs_y(X, H(X_test_normalized), Y)"
   ]
  }
 ],
 "metadata": {
  "kernelspec": {
   "display_name": "Python 3",
   "language": "python",
   "name": "python3"
  },
  "language_info": {
   "codemirror_mode": {
    "name": "ipython",
    "version": 3
   },
   "file_extension": ".py",
   "mimetype": "text/x-python",
   "name": "python",
   "nbconvert_exporter": "python",
   "pygments_lexer": "ipython3",
   "version": "3.6.8"
  }
 },
 "nbformat": 4,
 "nbformat_minor": 2
}
