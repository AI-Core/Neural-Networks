{
 "cells": [
  {
   "cell_type": "markdown",
   "metadata": {},
   "source": [
    "# Intro to PyTorch\n",
    "\n",
    "## What is PyTorch?\n",
    "\n",
    "Remember when we implemented our [first linear model](https://github.com/AI-Core/Strong-ML-Foundations/blob/master/Linear%20regression%2C%20loss%20functions%2C%20basic%20optimisation%20solutions.ipynb) that we trained with gradient descent? When we did that we had to write out functions which computed the gradient of the error/loss with respect to every different parameter in our model. These functions differed depending on how that parameter mathematically contributed to the loss (e.g. was it added to something, or multiplied by something that eventually affected the value of the loss).\n",
    "\n",
    "PyTorch is a numerical computation library like Numpy, made and maintained by Facebook. It has a core feature called **automatic differentiation**, which will help us to not have to write out these functions for each parameter. This is critical for deep learning as our neural networks can easily have millions of parameters.\n",
    "\n",
    "At the heart of PyTorch are a new data type, **torch tensors**."
   ]
  },
  {
   "cell_type": "code",
   "execution_count": 2,
   "metadata": {},
   "outputs": [],
   "source": [
    "# this cell just imports the libraries that we will use later\n",
    "import numpy as np   # for tensor math\n",
    "import torch    # our deep learning framework\n",
    "import torch.nn.functional as F    # contains functions like mean squared error that dont have parameters and can be called functionally\n",
    "from random import shuffle"
   ]
  },
  {
   "cell_type": "code",
   "execution_count": 3,
   "metadata": {
    "scrolled": true
   },
   "outputs": [
    {
     "name": "stdout",
     "output_type": "stream",
     "text": [
      "<class 'torch.Tensor'>\n",
      "<class 'torch.Tensor'>\n"
     ]
    }
   ],
   "source": [
    "X = torch.rand(1)   # create a random torch tensor (a single number (scalar) to start with)\n",
    "print(type(X)) # print it's type\n",
    "W =  # create another random tensor\n",
    "B =  # create again another random tensor\n",
    "Y = W*X + B    # compute a tensor from the ones which we already created\n",
    "print(type(Y)) # the type of a variable computed from a torch tensor will also be a torch tensor"
   ]
  },
  {
   "cell_type": "code",
   "execution_count": 4,
   "metadata": {},
   "outputs": [
    {
     "name": "stdout",
     "output_type": "stream",
     "text": [
      "tensor([[[0.1844, 0.2652, 0.4861, 0.2920],\n",
      "         [0.0903, 0.3352, 0.3537, 0.8505]],\n",
      "\n",
      "        [[0.9682, 0.4580, 0.6434, 0.8886],\n",
      "         [0.4127, 0.9864, 0.5199, 0.3852]],\n",
      "\n",
      "        [[0.3415, 0.8037, 0.1648, 0.5255],\n",
      "         [0.0532, 0.4860, 0.2493, 0.0107]]])\n",
      "torch.Size([3, 2, 4])\n"
     ]
    }
   ],
   "source": [
    "X =  # create a random tensor of size (3, 2, 4)\n",
    "print(X)\n",
    "print(X.shape) # print the shape of the tensor"
   ]
  },
  {
   "cell_type": "markdown",
   "metadata": {},
   "source": [
    "So far, we've just used PyTorch like we would use numpy. Eventually we want to be able to use PyTorch to optimise the parameters of models which represent the learnt relationships between our input features and output labels. To do this using gradient based optimisation methods (like gradient descent) we need to be able to compute how the error which we compute changes as we change our model's parameters (we need the gradient of our error with respect to each of our model parameters). \n",
    "\n",
    "### `.grad_fn` - Keeping track of how tensors were computed\n",
    "Torch tensors track which operation (if any) was applied to which inputs to create them. They store this information in an attribute called `.grad_fn`. By chaining together these relationships PyTorch builds a **computational graph** which displays how all variables relate to each other. The `.grad_fn` is the function that was performed on the incoming values to compute the value at a particular node.\n",
    "\n",
    "Below is a diagram of a computational graph that represents a simple linear regression model.\n",
    "\n",
    "![](./images/comp_graph.jpg)\n",
    "\n",
    "### `.requires_grad` - What tensors do I want to keep track of?\n",
    "The point of the computational graph is to show how the variables, that we require gradients of our loss with respect to, contribute to that loss. Using the `.grad_fn` we can work our way back from the loss to each of these variables. However, PyTorch `.grad_fn` attributes will only be created for variables that are computed from tensors that have a `.requires_grad` attribute equal to `True`. This `.requires_grad` attribute tells PyTorch that we want to be able to work our way back from our final output to here because we require the gradient of that final output with respect to this variable. As such, this variable is included in the computational graph, and all variables that are subsequently created from it will necessarily have a `.grad_fn` and `.requires_grad=True` and be included in the graph."
   ]
  },
  {
   "cell_type": "code",
   "execution_count": 5,
   "metadata": {},
   "outputs": [
    {
     "name": "stdout",
     "output_type": "stream",
     "text": [
      "X: tensor([0.7710])\n",
      "\n",
      "W: tensor([0.2136], requires_grad=True)\n",
      "W grad_fn: None\n",
      "\n",
      "B: tensor([0.3322], requires_grad=True)\n",
      "\n",
      "Y; tensor([0.4968], grad_fn=<AddBackward0>)\n",
      "Y.requires_grad: True\n",
      "Y.grad_fn: <AddBackward0 object at 0x7f6d2cd83ac8>\n"
     ]
    }
   ],
   "source": [
    "X = torch.rand(1)   # create a random scalar\n",
    "W = torch.rand(1, requires_grad=True)    # create a tensor that we want to compute gradients with respect to (requires grad) \n",
    "B =  # create another tensor with requires_grad=True\n",
    "Y = W*X + B\n",
    "\n",
    "print('X:', X)\n",
    "print()\n",
    "print('W:', W) # note the requires_grad attribute shown\n",
    "print('W grad_fn:', W.grad_fn)    # W was created randomly so it has no grad_fn to specify what operation created it\n",
    "print()\n",
    "print('B:', B)\n",
    "print()\n",
    "print('Y;', Y)\n",
    "print('Y.requires_grad:', Y.requires_grad)\n",
    "print('Y.grad_fn:', Y.grad_fn)"
   ]
  },
  {
   "cell_type": "markdown",
   "metadata": {},
   "source": [
    "## Differentiation in PyTorch and more about `torch.tensors`\n",
    "\n",
    "**The chain rule** shows us that we can compute a derivative of a function by chaining together the derivatives of the functions that connect those variables.\n",
    "\n",
    "![](./images/grad.jpg)\n",
    "\n",
    "By looking at our computational graph, we can see which functions connect any variables by following the arcs backward from the furthest point forward. PyTorch has many useful functions that can be used as layers in our models. Because PyTorch expects us to be differentiating (it is an automatic differentiation library), it also has associated gradient computing functions for each of the layers it provides. So by evaluating these gradient functions of the functions that relate two variables that we care about and multiplying them together, we can compute the derivative of one with respect to another. \n",
    "\n",
    "### Computing the gradient automatically - `.backward()`\n",
    "Differentiation in PyTorch is easy. We simply call the `.backward()` method on any tensor that we want to differentiate. When we call `.backward()` on a tensor, PyTorch will compute how its value changes as we consider changing every tensor that contributes to it (which has `.requires_grad=True`) in turn. It does this by recursively looking at the `.grad_fn` of that tensor, working it's way backward through the computational graph. \n",
    "\n",
    "### Where does a tensor's gradient get stored? `.grad`\n",
    "The values of the gradients for each of the contributing tensors get **added** to (they don't replace) each of their respective `.grad` attributes. This happens without us having to write the gradient functions, or perform their multiplication to apply the chain rule. \n",
    "\n",
    "So not only do torch tensors store their current values, but they can also store gradients (how their change affects other tensors)."
   ]
  },
  {
   "cell_type": "code",
   "execution_count": 6,
   "metadata": {},
   "outputs": [
    {
     "name": "stdout",
     "output_type": "stream",
     "text": [
      "X.grad: None\n",
      "W.grad: tensor([0.7710])\n",
      "B.grad: tensor([1.])\n",
      "Y.grad: None\n"
     ]
    }
   ],
   "source": [
    "Y. # differentiate our Y\n",
    "print('X.grad:', X.grad)\n",
    "print('W.grad:', W.grad)\n",
    "print('B.grad:', B.grad)\n",
    "print('Y.grad:', Y.grad)"
   ]
  },
  {
   "cell_type": "markdown",
   "metadata": {},
   "source": [
    "## Linear regression in PyTorch"
   ]
  },
  {
   "cell_type": "markdown",
   "metadata": {},
   "source": [
    "Now let's try to use what we've learn about PyTorch and tensors to solve a real problem.\n",
    "\n",
    "We'll start by making some fake data where the output is a linear function of the input."
   ]
  },
  {
   "cell_type": "code",
   "execution_count": 7,
   "metadata": {},
   "outputs": [
    {
     "name": "stdout",
     "output_type": "stream",
     "text": [
      "X: [0.         0.05263158 0.10526316 0.15789474 0.21052632 0.26315789\n",
      " 0.31578947 0.36842105 0.42105263 0.47368421 0.52631579 0.57894737\n",
      " 0.63157895 0.68421053 0.73684211 0.78947368 0.84210526 0.89473684\n",
      " 0.94736842 1.        ] \n",
      "\n",
      "Y: [0.7        0.80526316 0.91052632 1.01578947 1.12105263 1.22631579\n",
      " 1.33157895 1.43684211 1.54210526 1.64736842 1.75263158 1.85789474\n",
      " 1.96315789 2.06842105 2.17368421 2.27894737 2.38421053 2.48947368\n",
      " 2.59473684 2.7       ] \n",
      "\n"
     ]
    },
    {
     "data": {
      "image/png": "[encoded data removed]",
      "text/plain": [
       "<Figure size 432x288 with 1 Axes>"
      ]
     },
     "metadata": {
      "needs_background": "light"
     },
     "output_type": "display_data"
    }
   ],
   "source": [
    "# this is just a helper function to generate some sample data for us\n",
    "def sample_linear_data(m=20):\n",
    "    X = np.linspace(0, 1, m)    # create an array of m numbers linearly spaced (linspace) between 0 and 1\n",
    "    Y = 2*X + 0.7    # simple equation for a linear (straight line) relationship between X and Y\n",
    "    return X, Y #returns X (the input) which should have shape (m, 2) and Y (labels) which should have shape (m, 1)\n",
    "\n",
    "X, Y = sample_linear_data()    # create some sample data\n",
    "print('X:',X, '\\n')\n",
    "print('Y:',Y, '\\n')\n",
    "\n",
    "import matplotlib.pyplot as plt\n",
    "plt.grid()\n",
    "plt.ylim(0, 4)\n",
    "plt.xlim(0, 1)\n",
    "plt.plot(X, Y)    # plot Y against X\n",
    "plt.show()        # show the plot"
   ]
  },
  {
   "cell_type": "markdown",
   "metadata": {},
   "source": [
    "## Now let's build a model that will learn to represent this input-output relationship\n",
    "\n",
    "PyTorch makes it really easy for us to build complex models that can be improved via gradient based optimisation. It does this by providing a class named `torch.nn.Module`. Our model classes should inherit from this class because it does a few very useful things for us:\n",
    "\n",
    "1. `torch.nn.Module` keeps track of all `torch.nn.Parameters` that are created within it. So when we add a linear layer to our model, the parameters (matrix of weights) in that layer will be added to a list of our model's parameters. We can retrieve all parameters of our model using its `parameters()` method. We will later pass this (`mymodel.parameters()`) to our optimiser when we tell it that *this* is what it should be optimising.\n",
    "\n",
    "\n",
    "2. `torch.nn.Module` treats the `forward` method (function) of any child class specially by assigning it to the `__call__` method. That means that running `mymodel.forward(some_data)` is equal to `mymodel(some_data)`. "
   ]
  },
  {
   "cell_type": "code",
   "execution_count": 8,
   "metadata": {},
   "outputs": [],
   "source": [
    "class  # create a model class that inherits from torch.nn.Module\n",
    "    def  # define the constructor\n",
    "         # initialise the parent class (torch.nn.Module)\n",
    "         # initialise a linear layer (this initialises its parameters)\n",
    "                \n",
    "    def # define what happens to data that passes forward through the model\n",
    "         # pass our data through our linear layer\n",
    "         # return the output"
   ]
  },
  {
   "cell_type": "markdown",
   "metadata": {},
   "source": [
    "## What data can a PyTorch model process?\n",
    "\n",
    "### What type should it be?\n",
    "Most models will have parameters that control what transformations are applied to the data they process. The parameters which are initialised in each layer of a PyTorch model are of type `torch.tensor`. Many of these transformations, like matrix multiplication between two tensors, won't work between data of different types.\n",
    "\n",
    "We have created our fake data as type `numpy.ndarray`. So let's convert it into a torch tensor."
   ]
  },
  {
   "cell_type": "code",
   "execution_count": 9,
   "metadata": {},
   "outputs": [
    {
     "name": "stdout",
     "output_type": "stream",
     "text": [
      "<class 'numpy.ndarray'>\n",
      "<class 'torch.Tensor'>\n"
     ]
    }
   ],
   "source": [
    "print(type(X))    # print type before\n",
    "X = torch.tensor(X) # make X into torch tensor\n",
    "print(type(X))    # print type after\n",
    "Y = # make Y into torch tensor"
   ]
  },
  {
   "cell_type": "markdown",
   "metadata": {},
   "source": [
    "### What size does a layer expect its inputs to be?\n",
    "\n",
    "PyTorch models expect to be fed data of shape `(batch_size, example_shape)`. That is, it expects a of examples, and each example should also be a list. All of that is still required to be of type `torch tensor`. See more [here](https://pytorch.org/docs/stable/nn.html#torch.nn.Linear)"
   ]
  },
  {
   "cell_type": "code",
   "execution_count": 10,
   "metadata": {},
   "outputs": [
    {
     "name": "stdout",
     "output_type": "stream",
     "text": [
      "torch.Size([20])\n",
      "torch.Size([20, 1])\n"
     ]
    }
   ],
   "source": [
    "# reshape\n",
    "print(X.shape)\n",
    "X = X.view(-1, 1) # reshape X to have 1 column, and however many rows it needs\n",
    "Y =  # reshape Y similarly\n",
    "print(X.shape)"
   ]
  },
  {
   "cell_type": "markdown",
   "metadata": {},
   "source": [
    "### Specifically what type of tensor?\n",
    "\n",
    "On a computer, numbers can be stored with varying levels of precision. By default, the model parameters are stored as 32 bit floating point numbers (called type `Float`). But our fake datapoints that were transformed into a torch tensor are all 64 but floating point (called type `Double`). So we need to convert either the model parameters or the data into the other type so that they match and we can perform computations between them. \n",
    "\n",
    "64 bit floats are twice as accurate as, but take up twice the memory of 32 bit floats."
   ]
  },
  {
   "cell_type": "code",
   "execution_count": 11,
   "metadata": {},
   "outputs": [
    {
     "name": "stdout",
     "output_type": "stream",
     "text": [
      "tensor([[-0.0306],\n",
      "        [-0.0180],\n",
      "        [-0.0053],\n",
      "        [ 0.0073],\n",
      "        [ 0.0200],\n",
      "        [ 0.0326],\n",
      "        [ 0.0453],\n",
      "        [ 0.0579],\n",
      "        [ 0.0706],\n",
      "        [ 0.0832],\n",
      "        [ 0.0959],\n",
      "        [ 0.1085],\n",
      "        [ 0.1212],\n",
      "        [ 0.1338],\n",
      "        [ 0.1465],\n",
      "        [ 0.1591],\n",
      "        [ 0.1718],\n",
      "        [ 0.1845],\n",
      "        [ 0.1971],\n",
      "        [ 0.2098]], dtype=torch.float64, grad_fn=<AddmmBackward>)\n"
     ]
    }
   ],
   "source": [
    "model =  # create instance of model\n",
    "model =  # convert model parameters' datatype to match that of our inputs\n",
    "pred =  # make a prediction of an output corresponding to an input that we pass through our model\n",
    "print(pred)"
   ]
  },
  {
   "cell_type": "markdown",
   "metadata": {},
   "source": [
    "## Optimisation in PyTorch\n",
    "\n",
    "As well as providing tensors and layers, PyTorch provides optimisers. This means that we don't have to write our own optimisers which again are likely to be slower and less efficient. We also don't have to stay up to date with  the latest state of the art optimisers. We don't even need to know how they work to be honest. We can just let Facebook do the hard work for us!\n",
    "\n",
    "A module named `torch.optim` contains many classes that are templates for common optimisers. They include SGD, Adam, RMSProp, Ada and many more optimisers. Most of the time we should just use SGD or Adam.\n",
    "\n",
    "### `.parameters()`\n",
    "When we initialise our PyTorch optimisers, we need to tell it what it will be optimising. What should it be optimising? When we create our model that inherits from `torch.nn.Module`, PyTorch looks out for any attributes within it that also inherit from `torch.nn.Module` (like our `Linear` layer). It knows that the weights of these layers are parameters of our model, and they are automatically added to the model's list of parameters (see more [here](https://pytorch.org/docs/stable/nn.html#torch.nn.Parameter)). We can get the parameters of our model at any point by using it's `.parameters()` method (thanks to the fact that the model inherited from `torch.nn.Module`).\n",
    "\n",
    "Most optimisers also require an initial learning rate, so we should pass that in too.\n",
    "\n",
    "### `.step()`\n",
    "The optimisers that PyTorch provides all use the gradient of the loss (with respect to the parameters that they optimise) to compute how much they should update each weight and in what direction. They access this gradient by looking at the `.grad` attribute for all the parameters that they optimise, which is computed when we call `.backward` on any variable that these parameters affect. We can use the optimiser's `.step()` method  to actually perform the parameter updates - this is the ***learning*** in machine learning.\n",
    "\n",
    "### `.zero_grad()`\n",
    "Calling `.backward()` **does not reset** the existing parameter values of `.grad` for the tensore which gradients are computed for. Instead it **accumulates** them, adding to what was previously there. We may not want this, and we can use out optimiser's `.zero_grad()` method to reset the `.grad` values of the parameters which it's optimising back to zero."
   ]
  },
  {
   "cell_type": "markdown",
   "metadata": {},
   "source": [
    "## Let's combine all of that to train a simple linear model in PyTorch"
   ]
  },
  {
   "cell_type": "code",
   "execution_count": 12,
   "metadata": {},
   "outputs": [
    {
     "name": "stdout",
     "output_type": "stream",
     "text": [
      "Epoch: 0 \tLoss: 3.2739607012960232\n",
      "Epoch: 1 \tLoss: 1.3582583300266868\n",
      "Epoch: 2 \tLoss: 0.6058165880103796\n",
      "Epoch: 3 \tLoss: 0.29674513152284016\n",
      "Epoch: 4 \tLoss: 0.16233118886797976\n",
      "Epoch: 5 \tLoss: 0.0998183635475368\n",
      "Epoch: 6 \tLoss: 0.0685504168242188\n",
      "Epoch: 7 \tLoss: 0.05170326829948478\n",
      "Epoch: 8 \tLoss: 0.04192780544617647\n",
      "Epoch: 9 \tLoss: 0.03581932306064621\n",
      "Epoch: 10 \tLoss: 0.031707585728532814\n",
      "Epoch: 11 \tLoss: 0.02873104931468289\n",
      "Epoch: 12 \tLoss: 0.02642690891986378\n",
      "Epoch: 13 \tLoss: 0.02453862922816778\n",
      "Epoch: 14 \tLoss: 0.022920468138827834\n",
      "learnt weight: tensor([[1.6515]], dtype=torch.float64) \tlearnt bias: tensor([0.9032], dtype=torch.float64)\n"
     ]
    },
    {
     "data": {
      "image/png": "[encoded data removed]",
      "text/plain": [
       "<Figure size 1080x360 with 2 Axes>"
      ]
     },
     "metadata": {
      "needs_background": "light"
     },
     "output_type": "display_data"
    }
   ],
   "source": [
    "H =  # instantiate our model\n",
    "H =  # convert model parameter type to same as our data (double)\n",
    "optimiser =  # use PyTorch's Stochastic Gradient Descent optimiser\n",
    "L =  # use a pytorch function that computes the mean squared error (mse)\n",
    "\n",
    "epochs = 15\n",
    "losses = []\n",
    "for epoch in range(epochs):\n",
    "    for x, y in zip(X, Y):    # iterate through batches\n",
    "         # make a prediction using our model\n",
    "         # compute the loss\n",
    "         # differentiate the loss with respect to all variables that contribute to it in the computational graph and have requires_grad=True\n",
    "         # take an optimisation step (update weights)\n",
    "         # reset gradients to zero (otherwise they accumulate)\n",
    "        losses.append(loss) # add loss from this batch to our total list of losses (for plotting later)\n",
    "    print(f'Epoch: {epoch} \\tLoss: {loss}')\n",
    "        \n",
    "# GET THE LEARNT PARAMETERS\n",
    "w = H.linear_layer.weight.detach()    # detach removes the tensor from the graph so we can do numpy computation on it\n",
    "b = H.linear_layer.bias.detach()\n",
    "print('learnt weight:', w, '\\tlearnt bias:', b)\n",
    "    \n",
    "# PLOT THE LOSS CURVE AND OUR HYPOTHESIS\n",
    "import matplotlib.pyplot as plt\n",
    "fig = plt.figure(figsize=(15, 5))\n",
    "ax1 = fig.add_subplot(121)\n",
    "ax1.set_ylabel('Loss')\n",
    "ax1.set_xlabel('Batch index')\n",
    "ax1.plot(losses)\n",
    "\n",
    "ax2 = fig.add_subplot(122)\n",
    "ax2.set_ylabel('Label')\n",
    "ax2.set_xlabel('Features')\n",
    "ax2.plot(X, Y, c='r', label='ground truth')\n",
    "ax2.plot(X, w*X+b, label='predictions')\n",
    "ax2.legend()\n",
    "plt.show()"
   ]
  },
  {
   "cell_type": "markdown",
   "metadata": {},
   "source": [
    "## You've finished this notebook!\n",
    "\n",
    "Next steps:\n",
    "- [Neural networks](https://github.com/AI-Core/Neural-Networks/blob/master/Neural%20Networks.ipynb)\n",
    "\n",
    "## Further reading\n",
    "- [article on PyTorch](https://towardsdatascience.com/getting-started-with-pytorch-part-1-understanding-how-automatic-differentiation-works-5008282073ec)"
   ]
  }
 ],
 "metadata": {
  "kernelspec": {
   "display_name": "Python 3",
   "language": "python",
   "name": "python3"
  },
  "language_info": {
   "codemirror_mode": {
    "name": "ipython",
    "version": 3
   },
   "file_extension": ".py",
   "mimetype": "text/x-python",
   "name": "python",
   "nbconvert_exporter": "python",
   "pygments_lexer": "ipython3",
   "version": "3.6.9"
  }
 },
 "nbformat": 4,
 "nbformat_minor": 2
}
