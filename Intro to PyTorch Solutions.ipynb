{
 "cells": [
  {
   "cell_type": "markdown",
   "metadata": {},
   "source": [
    "# Intro to PyTorch\n",
    "\n",
    "Torch is a numerical computation library like Numpy but instead of arrays, it uses tensors. \n",
    "\n",
    "Tensors behave the same way as arrays but PyTorch has extra functionality under the hood which builds a computation graph as you perform calculations on the tensors and calculate gradients with one line of code.\n",
    "\n",
    "PyTorch was made and is maintained by Facebook.\n",
    "\n",
    "Below is a diagram of a computational graph. This one represents the computation of the loss (error) used in linear regression. Each node represents values (tensors usually), which are computed from all of, and only, the data nodes at the start of the incoming arcs (arrows). It displays the relationship between computed values, and crucially what data and operations they were computed from.\n",
    "\n",
    "![title](images/NN1_computation_graph.JPG)\n",
    "\n",
    "We could easily write functions in code to implement the mathematical functions that each node performs on its incoming data to compute it's values. Because we know what these functions are, we can also write functions to compute their rate of change (gradient) at any particular input values. That is, we can write functions that compute the derivative of the function.\n",
    "\n",
    "# grad img\n",
    "\n",
    "Thankfully, we don't have to write all of these functions and their derivatives that make up the layers of successive transformations in our model. That's what pytorch does.\n",
    "\n",
    "\n"
   ]
  },
  {
   "cell_type": "code",
   "execution_count": 2,
   "metadata": {},
   "outputs": [],
   "source": [
    "import numpy as np   # for tensor math\n",
    "import torch    # our deep learning framework\n",
    "import torch.nn.functional as F    # contains functions like mean squared error that dont have parameters and can be called functionally\n",
    "from random import shuffle"
   ]
  },
  {
   "cell_type": "markdown",
   "metadata": {},
   "source": [
    "### Linear regression"
   ]
  },
  {
   "cell_type": "code",
   "execution_count": 3,
   "metadata": {},
   "outputs": [],
   "source": [
    "def sample_linear_data(m=20):\n",
    "    X = np.linspace(0, 1, 10)\n",
    "    Y = 2*X + 0.7\n",
    "    return X, Y #returns X (the input) which should have shape (m, 2) and Y (labels) which should have shape (m, 1)"
   ]
  },
  {
   "cell_type": "code",
   "execution_count": 4,
   "metadata": {},
   "outputs": [
    {
     "name": "stdout",
     "output_type": "stream",
     "text": [
      "X: [0.         0.11111111 0.22222222 0.33333333 0.44444444 0.55555556\n",
      " 0.66666667 0.77777778 0.88888889 1.        ] \n",
      "\n",
      "Y: [0.7        0.92222222 1.14444444 1.36666667 1.58888889 1.81111111\n",
      " 2.03333333 2.25555556 2.47777778 2.7       ] \n",
      "\n"
     ]
    }
   ],
   "source": [
    "X, Y = sample_linear_data()\n",
    "print('X:',X, '\\n')\n",
    "print('Y:',Y, '\\n')"
   ]
  },
  {
   "cell_type": "markdown",
   "metadata": {},
   "source": [
    "## Making models in PyTorch\n",
    "\n",
    "PyTorch makes it really easy for us to build complex models that can be improved via gradient based optimisation. It does this by providing a class named `torch.nn.Module`. Our model classes should inherit from this class because it does a few very useful things for us:\n",
    "\n",
    "1. `torch.nn.Module` keeps track of all `torch.nn.Parameters` that are created within it. So when we add a linear layer to our model, the parameters (matrix of weights) in that layer will be added to a list of our model's parameters. We can retrieve all parameters of our model using its `parameters()` method. We will later pass this (`mymodel.parameters()`) to our optimiser when we tell it that *this* is what it should be optimising.\n",
    "\n",
    "\n",
    "2. `torch.nn.Module` treats the `forward` method (function) of any child class specially by assigning it to the `__call__` method. That means that running `mymodel.forward(some_data)` is equal to `mymodel(some_data)`. "
   ]
  },
  {
   "cell_type": "code",
   "execution_count": 5,
   "metadata": {},
   "outputs": [],
   "source": [
    "class LinearModel(torch.nn.Module):\n",
    "    def __init__(self):\n",
    "        super().__init__()    # initialise parent module\n",
    "        self.linear_layer = torch.nn.Linear(1, 1)    # we want a linear transformation that maps from a scalar X to a scalar Y\n",
    "     \n",
    "    def forward(self, x):\n",
    "        x = self.linear_layer(x)\n",
    "        return x"
   ]
  },
  {
   "cell_type": "markdown",
   "metadata": {},
   "source": [
    "## What data can a PyTorch model process?\n",
    "\n",
    "### What type should it be?\n",
    "Most models will have parameters that control what transformations are applied to the data they process. The parameters which are initialised in each layer of a PyTorch model are of type `torch.tensor`. Many of these transformations, like matrix multiplication between two tensors, won't work between data of different types.\n",
    "\n",
    "We have created our fake data as type `numpy.ndarray`. So let's convert it into a torch tensor."
   ]
  },
  {
   "cell_type": "code",
   "execution_count": 6,
   "metadata": {},
   "outputs": [
    {
     "name": "stdout",
     "output_type": "stream",
     "text": [
      "<class 'numpy.ndarray'>\n"
     ]
    }
   ],
   "source": [
    "print(type((X)))\n",
    "X = torch.tensor(X)\n",
    "Y = torch.tensor(Y)"
   ]
  },
  {
   "cell_type": "markdown",
   "metadata": {},
   "source": [
    "### In what format does a layer expect to recieve an input?\n",
    "\n",
    "PyTorch models expect to be fed data of shape `(batch_size, num_example_features)`. That is, it expects a of examples, and each example should also be a list. All of that is still required to be of type `torch tensor`. See more [here](https://pytorch.org/docs/stable/nn.html#torch.nn.Linear)"
   ]
  },
  {
   "cell_type": "code",
   "execution_count": 7,
   "metadata": {},
   "outputs": [
    {
     "name": "stdout",
     "output_type": "stream",
     "text": [
      "tensor([[0.0000],\n",
      "        [0.1111],\n",
      "        [0.2222],\n",
      "        [0.3333],\n",
      "        [0.4444],\n",
      "        [0.5556],\n",
      "        [0.6667],\n",
      "        [0.7778],\n",
      "        [0.8889],\n",
      "        [1.0000]], dtype=torch.float64)\n"
     ]
    }
   ],
   "source": [
    "X = X.view(-1, 1)\n",
    "print(X)\n",
    "Y = Y.view(-1, 1)\n",
    "\n",
    "data = zip(X, Y)"
   ]
  },
  {
   "cell_type": "markdown",
   "metadata": {},
   "source": [
    "### Specifically what kind of tensor?\n",
    "\n",
    "On a computer, numbers can be stored with varying levels of precision. By default, the model parameters are stored as 32 bit floating point numbers (called type `Float`). But our fake datapoints that were transformed into a torch tensor are all 64 but floating point (called type `Double`). So we need to convert either the model parameters or the data into the other type so that they match and we can perform computations between them. \n",
    "\n",
    "64 bit floats are twice as accurate as, but take up twice the memory of 32 bit floats."
   ]
  },
  {
   "cell_type": "code",
   "execution_count": 8,
   "metadata": {},
   "outputs": [],
   "source": [
    "my_model = LinearModel().double()"
   ]
  },
  {
   "cell_type": "markdown",
   "metadata": {},
   "source": [
    "## Differentiation in PyTorch and more about `torch.tensors`\n",
    "\n",
    "In the linear regression notebook, we wrote our own functions to compute the rate of change (gradients) or our model with respect to its parameters. We then used these gradients to iteratively improve the model through gradient descent (making small updates to the parameters in the direction that decreases the error).\n",
    "\n",
    "The gradient computing functions that we wrote in that notebook depended on the specific transformations (functions) that were applied on data passing through our model. If we changed the model, we would have to make sure that \n",
    "\n",
    "As illustrated in the computational graph, the relationship between our objective (loss) and the parameters which we want to optimise is defined by the layers of transformations that are used to compute the loss from these parameters.\n",
    "\n",
    "**The chain rule** shows us that we can compute a derivative of a function by chaining together the derivatives of the functions that connect those variables.\n",
    "\n",
    "# chain rule img\n",
    "\n",
    "By looking at our computational graph, we can see which functions connect any variables by following the arcs backward from the furthest point forward. PyTorch has many useful functions that can be used as layers in our models. Because PyTorch expects us to be differentiating (it is an automatic differentiation library), it also has associated gradient computing functions for each of the layers it provides. So by evaluating these gradient functions of the functions that relate two variables that we care about and multiplying them together, we can compute the derivative of one with respect to another. \n",
    "\n",
    "We can do this by calling the `.backward()` method on any tensorThis happens without us having to write the gradient functions, or perform their multiplication.\n",
    "\n",
    "### Computing the gradient automatically - `.backward()`\n",
    "\n",
    "\n",
    "### `.grad_fn`\n",
    "Every tensor that is created in PyTorch has an attribute called `grad_fn` (gradient function). This attribute specifies what operation was this value output by. Remember the nodes in our computation graph? Well the grad_fn is the function that was performed on the incoming values to compute the value at a particular node.\n",
    "\n",
    "# grad_fn img\n",
    "\n",
    "### `.requires_grad`\n",
    "We don't need to track the gradients of our loss with respect to some variables (like our input data or our learning rate for example).\n",
    "PyTorch tensors will only have a `grad_fn` if their **`requires_grad`** attribute is true.\n",
    "\n",
    "Let's play around with `grad_fn` and `requires_grad` now.\n",
    "\n",
    "### Where does a tenso's gradient get stored? `.grad`\n",
    "Not only do torch tensors store their current values, but they can also store computed gradients.\n",
    "\n",
    "\n"
   ]
  },
  {
   "cell_type": "code",
   "execution_count": 9,
   "metadata": {},
   "outputs": [
    {
     "name": "stdout",
     "output_type": "stream",
     "text": [
      "torch.Size([1])\n",
      "requires_grad: False\n",
      "grad_fn: None\n",
      "x grad: None\n",
      "\n",
      "weight requires_grad: True\n",
      "weight grad_fn: None\n",
      "weight grad: None\n",
      "\n",
      "hypothesis requires_grad: True\n",
      "hypothesis grad_fn: <MulBackward0 object at 0x7faace8bee10>\n",
      "\n",
      "x.grad: None\n",
      "w.grad: tensor([0.5027])\n"
     ]
    }
   ],
   "source": [
    "x = torch.rand(1)\n",
    "print(x.shape)\n",
    "print('requires_grad:', x.requires_grad)\n",
    "print('grad_fn:', x.grad_fn)\n",
    "print('x grad:', x.grad)\n",
    "\n",
    "w = torch.rand(1, requires_grad=True)    # use the keyword argument to track \n",
    "# w.requires_grad=True    # we could also have done this instead of using the keyword argument\n",
    "print()\n",
    "print('weight requires_grad:', w.requires_grad)\n",
    "print('weight grad_fn:', w.grad_fn)\n",
    "print('weight grad:', w.grad)\n",
    "\n",
    "h = w*x\n",
    "print()\n",
    "print('hypothesis requires_grad:', h.requires_grad)\n",
    "print('hypothesis grad_fn:', h.grad_fn)\n",
    "\n",
    "h.backward()\n",
    "\n",
    "print()\n",
    "print('x.grad:', x.grad)\n",
    "print('w.grad:', w.grad)\n"
   ]
  },
  {
   "cell_type": "markdown",
   "metadata": {},
   "source": [
    "## Optimisation in PyTorch\n",
    "\n",
    "As well as providing tensors and layers, PyTorch provides optimisers. This means that we don't have to write our own optimisers which again are likely to be slower and less efficient. We also don't have to stay up to date with  the latest state of the art optimisers. We don't even need to know how they work to be honest. We can just let Facebook do the hard work for us!\n",
    "\n",
    "A module named `torch.optim` contains many classes that are templates for common optimisers. They include SGD, Adam, RMSProp, Ada and many more optimisers. Most of the time we should just use SGD or Adam.\n",
    "\n",
    "### `.parameters()`\n",
    "When we initialise our PyTorch optimisers, we need to tell it what it will be optimising. What should it be optimising? When we create our model that inherits from `torch.nn.Module`, PyTorch looks out for any layers that also inherit from `torch.nn.Module` (like our `Linear` layer). It knows that the weights of these layers are parameters of our model, and they are automatically added to the model's list of parameters (see more [here](https://pytorch.org/docs/stable/nn.html#torch.nn.Parameter)). We can get the parameters of our model at any point by using it's `.parameters()` method (thanks to the fact that the model inherited from `torch.nn.Module`).\n",
    "\n",
    "Most optimisers also require an initial learning rate, so we should pass that in too.\n",
    "\n",
    "### `.step()`\n",
    "The optimisers that PyTorch provides all use the gradient of the loss (with respect to the parameters that they optimise) to compute how much they should update each weight and in what direction. They access this gradient by looking at the `.grad` attribute for all the parameters that they optimise, which is computed when we call `.backward` on any variable that these parameters affect. We can use the optimiser's `.step()` method  to actually perform the parameter updates - this is the ***learning*** in machine learning.\n",
    "\n",
    "### `.zero_grad()`\n",
    "Calling `.backward()` **does not reset** the existing parameter values of `.grad` for the tensore which gradients are computed for. Instead it **accumulates** them, adding to what was previously there. We may not want this, and we can use out optimiser's `.zero_grad()` method to reset the `.grad` values of the parameters which it's optimising back to zero."
   ]
  },
  {
   "cell_type": "markdown",
   "metadata": {},
   "source": [
    "## Let's combine all of that to train a simple linear model in PyTorch"
   ]
  },
  {
   "cell_type": "code",
   "execution_count": 12,
   "metadata": {},
   "outputs": [
    {
     "name": "stdout",
     "output_type": "stream",
     "text": [
      "Epoch: 0 \tLoss: 0.07800502618967209\n",
      "Epoch: 1 \tLoss: 0.03455825902012133\n",
      "Epoch: 2 \tLoss: 0.02495887298717401\n",
      "Epoch: 3 \tLoss: 0.018070456303876953\n",
      "Epoch: 4 \tLoss: 0.013083304471821863\n",
      "Epoch: 5 \tLoss: 0.009472525731963265\n",
      "Epoch: 6 \tLoss: 0.006858263059541912\n",
      "Epoch: 7 \tLoss: 0.004965494264659599\n",
      "Epoch: 8 \tLoss: 0.003595098799551491\n",
      "Epoch: 9 \tLoss: 0.0026029101413980933\n",
      "learnt weight: tensor([[1.8441]], dtype=torch.float64) \tlearnt bias: tensor([0.7847], dtype=torch.float64)\n"
     ]
    },
    {
     "data": {
      "image/png": "[encoded data removed]",
      "text/plain": [
       "<Figure size 1080x360 with 2 Axes>"
      ]
     },
     "metadata": {
      "needs_background": "light"
     },
     "output_type": "display_data"
    }
   ],
   "source": [
    "H = LinearModel()   # instantiate our model\n",
    "H = H.double()\n",
    "optimiser = torch.optim.SGD(H.parameters(), lr=0.1)    # use PyTorch's Stochastic Gradient Descent optimiser\n",
    "L = F.mse_loss    # use a pytorch function that computes the mean squared error (mse)\n",
    "\n",
    "epochs = 10\n",
    "losses = []\n",
    "for epoch in range(epochs):\n",
    "    for x, y in zip(X, Y):    # iterate through batches\n",
    "        prediction = H(X)    #make a prediction using our model\n",
    "        loss = L(prediction, Y)    # compute the loss\n",
    "        loss.backward()    # differentiate the loss with respect to all variables that contribute to it in the computational graph and have requires_grad=True\n",
    "        optimiser.step()    # take an optimisation step (update weights)\n",
    "        optimiser.zero_grad()    # reset gradients to zero (otherwise they accumulate)\n",
    "        losses.append(loss)\n",
    "    print(f'Epoch: {epoch} \\tLoss: {loss}')\n",
    "        \n",
    "# GET THE LEARNT PARAMETERS\n",
    "w = H.linear_layer.weight.detach()    # detach removes the tensor from the graph so we can do numpy computation on it\n",
    "b = H.linear_layer.bias.detach()\n",
    "print('learnt weight:', w, '\\tlearnt bias:', b)\n",
    "    \n",
    "# PLOT THE LOSS CURVE AND OUR HYPOTHESIS\n",
    "import matplotlib.pyplot as plt\n",
    "fig = plt.figure(figsize=(15, 5))\n",
    "ax1 = fig.add_subplot(121)\n",
    "ax1.set_ylabel('Loss')\n",
    "ax1.set_xlabel('Epoch')\n",
    "ax1.plot(losses)\n",
    "\n",
    "ax2 = fig.add_subplot(122)\n",
    "ax2.set_ylabel('Label')\n",
    "ax2.set_xlabel('Features')\n",
    "ax2.plot(X, Y, c='r', label='ground truth')\n",
    "ax2.plot(X, w*X+b, label='predictions')\n",
    "ax2.legend()\n",
    "plt.show()"
   ]
  },
  {
   "cell_type": "markdown",
   "metadata": {},
   "source": [
    "## You've finished this notebook!\n",
    "\n",
    "Next steps:\n",
    "- [Neural networks](https://github.com/AI-Core/Neural-Networks/blob/master/Neural%20Networks.ipynb)\n",
    "\n",
    "## Further reading\n",
    "- [article on PyTorch](https://towardsdatascience.com/getting-started-with-pytorch-part-1-understanding-how-automatic-differentiation-works-5008282073ec)"
   ]
  }
 ],
 "metadata": {
  "kernelspec": {
   "display_name": "Python 3",
   "language": "python",
   "name": "python3"
  },
  "language_info": {
   "codemirror_mode": {
    "name": "ipython",
    "version": 3
   },
   "file_extension": ".py",
   "mimetype": "text/x-python",
   "name": "python",
   "nbconvert_exporter": "python",
   "pygments_lexer": "ipython3",
   "version": "3.6.8"
  }
 },
 "nbformat": 4,
 "nbformat_minor": 2
}
