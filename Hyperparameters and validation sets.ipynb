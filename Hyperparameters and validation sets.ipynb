{
 "cells": [
  {
   "cell_type": "markdown",
   "metadata": {},
   "source": [
    "## Why should we not tune our hyperparameters based on our model's score on the test set?\n",
    "\n",
    "If we adjust our model's hyperparameters by evaluating it's performance on the test set, then \n",
    "\n",
    "This is like training for a test and evaluating your performance based on how well you can answer the exact questions that come up.\n",
    "In real life you are unlikely to encounter exactly the same challenges, and so by training on them you will overfit, and not be able to generalise to *different* unseen answers.\n",
    "\n",
    "You may find that a certain set of hyperparameters perform well on the test set, but then fail to perform as well in the wild when the model is being evaluated on . \n",
    "\n",
    "## What else can we test them on? \n",
    "\n",
    "Training our model weights by evaluating them on the test set will cause our model to overfit. The same is true for training our model hyperparameters. But we can't train both our\n",
    "We can't adjust our hyperparameters by evaluating \n",
    "\n",
    "We can take some of the data that we plan to train the neural network's weights on and separate it from that main training set. \n",
    "We can then use this split-off data to validate that the current hyperparameters will make our model to perform well on unseen data (both the validation set and the test set are unseen).\n",
    "\n",
    "PyTorch has a utility method `torch.utils.data.random_split()` that makes it easy to randomly split a dataset. Check out the [docs](https://pytorch.org/docs/stable/data.html#torch.utils.data.random_split) here."
   ]
  },
  {
   "cell_type": "code",
   "execution_count": null,
   "metadata": {},
   "outputs": [],
   "source": []
  }
 ],
 "metadata": {
  "kernelspec": {
   "display_name": "Python 3",
   "language": "python",
   "name": "python3"
  },
  "language_info": {
   "codemirror_mode": {
    "name": "ipython",
    "version": 3
   },
   "file_extension": ".py",
   "mimetype": "text/x-python",
   "name": "python",
   "nbconvert_exporter": "python",
   "pygments_lexer": "ipython3",
   "version": "3.6.9"
  }
 },
 "nbformat": 4,
 "nbformat_minor": 2
}
