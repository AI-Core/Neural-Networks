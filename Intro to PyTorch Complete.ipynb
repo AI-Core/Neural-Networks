{
 "cells": [
  {
   "cell_type": "markdown",
   "metadata": {},
   "source": [
    "## Intro to PyTorch\n",
    "\n",
    "Torch is a numerical computation library like Numpy but instead of arrays, it uses tensors. \n",
    "\n",
    "Tensors behave the same way as arrays but PyTorch has extra functionality under the hood which builds a computation graph as you perform calculations on the tensors and calculate gradients with one line of code.\n",
    "\n",
    "![title](images/NN1_computation_graph.JPG)"
   ]
  },
  {
   "cell_type": "code",
   "execution_count": 1,
   "metadata": {},
   "outputs": [],
   "source": [
    "import torch\n",
    "\n",
    "#there are many ways of initializing tensors\n",
    "a = torch.Tensor([1, 2])\n",
    "b = torch.arange(10).view(5, 2)\n",
    "c = torch.zeros(10, 2)"
   ]
  },
  {
   "cell_type": "markdown",
   "metadata": {},
   "source": [
    "### Linear regression"
   ]
  },
  {
   "cell_type": "code",
   "execution_count": 42,
   "metadata": {},
   "outputs": [],
   "source": [
    "def sample_linear_data(m=20): \n",
    "    ground_truth_w = torch.Tensor([[2.3, 1.2]]) # slope\n",
    "    ground_truth_b = -8 #intercept\n",
    "    X = torch.randn(m, 2)\n",
    "    Y = torch.matmul(X, ground_truth_w.t()) + ground_truth_b + 0.2*torch.randn(m, 1)\n",
    "    return X, Y #returns X (the input) and Y (labels)"
   ]
  },
  {
   "cell_type": "code",
   "execution_count": 43,
   "metadata": {},
   "outputs": [
    {
     "name": "stdout",
     "output_type": "stream",
     "text": [
      "X: tensor([[ 0.1392,  0.6675],\n",
      "        [ 1.2486,  1.4047],\n",
      "        [-0.1421, -0.3008],\n",
      "        [-1.0824, -0.1464],\n",
      "        [-0.7338, -0.8334],\n",
      "        [ 0.3825, -0.9441],\n",
      "        [-0.6978, -0.2023],\n",
      "        [-1.0797, -0.0226],\n",
      "        [ 1.8519, -0.1263],\n",
      "        [ 0.2155, -1.2444],\n",
      "        [-0.3460,  0.0163],\n",
      "        [-2.0616,  0.9679],\n",
      "        [ 0.0282, -0.9284],\n",
      "        [ 0.3159, -1.5359],\n",
      "        [-0.3081,  0.1873],\n",
      "        [ 0.0820, -0.1434],\n",
      "        [ 0.6531, -1.6971],\n",
      "        [-1.9849,  0.2293],\n",
      "        [-0.9236, -0.1811],\n",
      "        [-0.4425,  1.4756]]) \n",
      "\n",
      "Y: tensor([[ -6.7628],\n",
      "        [ -3.4803],\n",
      "        [ -8.6642],\n",
      "        [-10.7079],\n",
      "        [-10.8685],\n",
      "        [ -8.4336],\n",
      "        [ -9.5745],\n",
      "        [-10.7069],\n",
      "        [ -3.4764],\n",
      "        [ -8.6176],\n",
      "        [ -8.5480],\n",
      "        [-11.6444],\n",
      "        [ -9.2652],\n",
      "        [ -9.0537],\n",
      "        [ -8.3913],\n",
      "        [ -7.9818],\n",
      "        [ -8.6755],\n",
      "        [-11.9595],\n",
      "        [ -9.9847],\n",
      "        [ -7.1044]]) \n",
      "\n"
     ]
    }
   ],
   "source": [
    "X, Y = sample_linear_data()\n",
    "print('X:',X, '\\n')\n",
    "print('Y:',Y, '\\n')"
   ]
  },
  {
   "cell_type": "markdown",
   "metadata": {},
   "source": [
    "#### From scratch"
   ]
  },
  {
   "cell_type": "code",
   "execution_count": 48,
   "metadata": {},
   "outputs": [
    {
     "name": "stdout",
     "output_type": "stream",
     "text": [
      "Epoch cost: 1457.4254150390625\n",
      "Epoch cost: 1436.4327392578125\n",
      "Epoch cost: 1416.7264404296875\n",
      "Epoch cost: 1398.2254638671875\n",
      "Epoch cost: 1380.8533935546875\n"
     ]
    }
   ],
   "source": [
    "#linear regression optimized using gradient descent in pytorch from scratch\n",
    "lr = 0.001\n",
    "epochs = 5\n",
    "weights = torch.randn((2, 1), requires_grad=True) #initialized weights, we will need to calculate gradients for this tensor\n",
    "optimizer = torch.optim.SGD([weights], lr=lr) #optimizer object to optimize the weights tensor\n",
    "\n",
    "for i in range(epochs):\n",
    "    y_hat = torch.matmul(X, weights)\n",
    "    cost = torch.sum(torch.pow(y_hat-Y, 2))\n",
    "    \n",
    "    optimizer.zero_grad() #forget currently stored gradients\n",
    "    cost.backward() #calculate gradients of tensors (which have requires_grad=True) with respect to the cost tensor\n",
    "    optimizer.step() #update the weights using the calculated gradients\n",
    "    \n",
    "    print('Epoch cost:', cost.item()) #print cost for this epoch"
   ]
  },
  {
   "cell_type": "markdown",
   "metadata": {},
   "source": [
    "#### Using torch.nn.Module"
   ]
  },
  {
   "cell_type": "code",
   "execution_count": 49,
   "metadata": {},
   "outputs": [
    {
     "name": "stdout",
     "output_type": "stream",
     "text": [
      "Epoch cost: 1421.1077880859375\n",
      "Epoch cost: 1289.6917724609375\n",
      "Epoch cost: 1170.557373046875\n",
      "Epoch cost: 1062.5509033203125\n",
      "Epoch cost: 964.6268310546875\n"
     ]
    }
   ],
   "source": [
    "class LinearModel(torch.nn.Module):\n",
    "    def __init__(self):\n",
    "        super().__init__()\n",
    "        self.dense1 = torch.nn.Linear(2, 1)\n",
    "    def forward(self, x):\n",
    "        return self.dense1(x)\n",
    "        \n",
    "lr = 0.001\n",
    "epochs = 5\n",
    "H = LinearModel()\n",
    "optimizer = torch.optim.SGD(H.parameters(), lr=lr) #optimizer object to optimize the weights tensor\n",
    "\n",
    "for i in range(epochs):\n",
    "    y_hat = H(X)\n",
    "    cost = torch.sum(torch.pow(y_hat-Y, 2))\n",
    "    \n",
    "    optimizer.zero_grad() #forget currently stored gradients\n",
    "    cost.backward() #calculate gradients of tensors (which have requires_grad=True) with respect to the cost tensor\n",
    "    optimizer.step() #update the weights using the calculated gradients\n",
    "    \n",
    "    print('Epoch cost:', cost.item()) #print cost for this epoch"
   ]
  }
 ],
 "metadata": {
  "kernelspec": {
   "display_name": "Python 3",
   "language": "python",
   "name": "python3"
  },
  "language_info": {
   "codemirror_mode": {
    "name": "ipython",
    "version": 3
   },
   "file_extension": ".py",
   "mimetype": "text/x-python",
   "name": "python",
   "nbconvert_exporter": "python",
   "pygments_lexer": "ipython3",
   "version": "3.6.8"
  }
 },
 "nbformat": 4,
 "nbformat_minor": 2
}
